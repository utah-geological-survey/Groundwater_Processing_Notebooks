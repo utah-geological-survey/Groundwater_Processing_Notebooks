{
 "cells": [
  {
   "cell_type": "code",
   "execution_count": 4,
   "id": "178e8ec5-8b04-48b2-889e-ddc4c96fc30f",
   "metadata": {
    "execution": {
     "iopub.execute_input": "2024-12-04T23:41:30.328071Z",
     "iopub.status.busy": "2024-12-04T23:41:30.327073Z",
     "iopub.status.idle": "2024-12-04T23:41:30.891464Z",
     "shell.execute_reply": "2024-12-04T23:41:30.891042Z",
     "shell.execute_reply.started": "2024-12-04T23:41:30.328071Z"
    }
   },
   "outputs": [],
   "source": [
    "import pandas as pd\n",
    "from bs4 import BeautifulSoup\n",
    "import requests"
   ]
  },
  {
   "cell_type": "code",
   "execution_count": 5,
   "id": "70f4495d-edb4-4ed7-8713-db0696da7fd4",
   "metadata": {
    "execution": {
     "iopub.execute_input": "2024-12-04T23:41:32.776284Z",
     "iopub.status.busy": "2024-12-04T23:41:32.775283Z",
     "iopub.status.idle": "2024-12-04T23:41:32.781239Z",
     "shell.execute_reply": "2024-12-04T23:41:32.781239Z",
     "shell.execute_reply.started": "2024-12-04T23:41:32.776284Z"
    }
   },
   "outputs": [],
   "source": [
    "def get_water_rights_data(**kwargs):\n",
    "    \"\"\"\n",
    "    Query the Utah Water Rights calculation service with keyword arguments.\n",
    "    \n",
    "    Returns:\n",
    "        str: Response text from the API if successful, None otherwise\n",
    "    \"\"\"\n",
    "    # Base URL\n",
    "    base_url = \"https://maps.waterrights.utah.gov/Py/calculate.py\"\n",
    "    \n",
    "    # Default parameters\n",
    "    default_params = {\n",
    "        \"PageId\": \"Evaluate PODS\",\n",
    "        \"LOGINFLAG\": \"false\",\n",
    "        \"Units\": \"plss\",\n",
    "        \"UTMx\": \"\",\n",
    "        \"datumutm\": \"NAD83\",\n",
    "        \"utmcorner\": \"closest\",\n",
    "        \"UTMy\": \"\",\n",
    "        \"plsns\": \"N\",\n",
    "        \"plsnsdist\": \"100\",\n",
    "        \"plsew\": \"E\",\n",
    "        \"plsewdist\": \"500\",\n",
    "        \"plscorner\": \"NE\",\n",
    "        \"plsection\": \"8\",\n",
    "        \"plstown\": \"3N\",\n",
    "        \"plsrange\": \"4E\",\n",
    "        \"plsbm\": \"SL\",\n",
    "        \"LLy\": \"\",\n",
    "        \"datumLL\": \"NAD83\",\n",
    "        \"LLcorner\": \"closest\",\n",
    "        \"LLx\": \"\",\n",
    "        \"SPx\": \"\",\n",
    "        \"datumSP\": \"NAD83\",\n",
    "        \"zoneSP\": \"4301.0\",\n",
    "        \"SPcorner\": \"closest\",\n",
    "        \"SPy\": \"\",\n",
    "        \"batchdatumutm\": \"NAD83\",\n",
    "        \"utm_pnts\": \"\"\n",
    "    }\n",
    "    \n",
    "    # Update default parameters with any provided kwargs\n",
    "    params = {**default_params, **kwargs}\n",
    "    \n",
    "    try:\n",
    "        # Make the GET request\n",
    "        response = requests.get(base_url, params=params)\n",
    "        \n",
    "        # Raise an exception for bad status codes\n",
    "        response.raise_for_status()\n",
    "        \n",
    "        # Return the response content\n",
    "        return response.text\n",
    "        \n",
    "    except requests.exceptions.RequestException as e:\n",
    "        print(f\"An error occurred: {e}\")\n",
    "        return None\n",
    "\n",
    "\n"
   ]
  },
  {
   "cell_type": "code",
   "execution_count": 12,
   "id": "f2471987-2033-48d9-96a6-02202d2efb05",
   "metadata": {
    "execution": {
     "iopub.execute_input": "2024-12-04T23:48:23.322037Z",
     "iopub.status.busy": "2024-12-04T23:48:23.321040Z",
     "iopub.status.idle": "2024-12-04T23:48:24.264404Z",
     "shell.execute_reply": "2024-12-04T23:48:24.264404Z",
     "shell.execute_reply.started": "2024-12-04T23:48:23.322037Z"
    }
   },
   "outputs": [],
   "source": [
    "def parse_location(location):\n",
    "    # Split the location string into components\n",
    "    components = location.split()\n",
    "    \n",
    "    # Extract key components from the location\n",
    "    try:\n",
    "        ns_distance = components[1]  # e.g., 190\n",
    "        ew_distance = components[3]  # e.g., 1660\n",
    "        section = components[5]           # e.g., 25\n",
    "        township = components[6]          # e.g., S22\n",
    "        range_ = components[7]            # e.g., E1\n",
    "\n",
    "        # Reformat township and range\n",
    "        township = f\"{township[1:]}{township[0]}\"  # Converts \"S22\" to \"22S\"\n",
    "        range_ = f\"{range_[1:]}{range_[0]}\"        # Converts \"E1\" to \"1E\"\n",
    "\n",
    "        # Create the parameter dictionary\n",
    "        result = get_water_rights_data(\n",
    "            plsns= components[0],              # North or South (N/S)\n",
    "            plsnsdist= ns_distance,            # Distance in the North-South direction\n",
    "            plsew= components[2],              # East or West (E/W)\n",
    "            plsewdist= ew_distance,            # Distance in the East-West direction\n",
    "            plsection= section,                # Section number\n",
    "            plstown= township,                 # Township value\n",
    "            plsrange= range_,                  # Range value\n",
    "        )\n",
    "        return result\n",
    "    except (IndexError, ValueError):\n",
    "        print(\"Invalid location format\")\n",
    "        return None\n",
    "\n",
    "\n",
    "\n",
    "\n"
   ]
  },
  {
   "cell_type": "code",
   "execution_count": 14,
   "id": "f9044430-d600-46da-9650-6a8eb602de2f",
   "metadata": {
    "execution": {
     "iopub.execute_input": "2024-12-04T23:56:57.499123Z",
     "iopub.status.busy": "2024-12-04T23:56:57.499123Z",
     "iopub.status.idle": "2024-12-04T23:56:57.512853Z",
     "shell.execute_reply": "2024-12-04T23:56:57.511844Z",
     "shell.execute_reply.started": "2024-12-04T23:56:57.499123Z"
    }
   },
   "outputs": [
    {
     "name": "stdout",
     "output_type": "stream",
     "text": [
      "UTM_NAD83_Easting     4.353985e+05\n",
      "UTM_NAD83_Northing    4.303061e+06\n",
      "Latitude_WGS84        3.887404e+01\n",
      "Longitude_WGS84      -1.117447e+02\n",
      "dtype: float64\n",
      "UTM NAD83: 435398.450,4303061.416\n",
      "Latitude and Longitude (WGS84): 38.8740376918, -111.744735561\n"
     ]
    }
   ],
   "source": [
    "from bs4 import BeautifulSoup\n",
    "\n",
    "\n",
    "from bs4 import BeautifulSoup\n",
    "import pandas as pd\n",
    "\n",
    "def extract_coordinates_from_html(html_content):\n",
    "    \"\"\"\n",
    "    Parses HTML content to extract UTM NAD83, Latitude/Longitude WGS84, \n",
    "    splits them into separate values, and returns them as a Pandas Series.\n",
    "\n",
    "    Parameters:\n",
    "        html_content (str): HTML content as a string.\n",
    "\n",
    "    Returns:\n",
    "        pd.Series: A pandas Series with extracted UTM NAD83 and Latitude/Longitude as separate values.\n",
    "    \"\"\"\n",
    "    # Parse the HTML with BeautifulSoup\n",
    "    soup = BeautifulSoup(html_content, \"html.parser\")\n",
    "\n",
    "    # Dictionary to store extracted data\n",
    "    data = {}\n",
    "\n",
    "    # Find table rows and extract relevant data\n",
    "    table_rows = soup.find_all(\"tr\")\n",
    "    for row in table_rows:\n",
    "        cells = row.find_all(\"td\")\n",
    "        if len(cells) >= 2:\n",
    "            label = cells[0].get_text(strip=True)\n",
    "            value = cells[1].get_text(strip=True)\n",
    "            if \"UTM NAD83\" in label:\n",
    "                # Split UTM NAD83 into Easting and Northing\n",
    "                easting, northing = value.split(',')\n",
    "                data[\"UTM_NAD83_Easting\"] = float(easting)\n",
    "                data[\"UTM_NAD83_Northing\"] = float(northing)\n",
    "            elif \"Lat/Long WGS84\" in label or \"Geographic WGS84\" in label:\n",
    "                # Split Latitude/Longitude into separate values\n",
    "                latitude, longitude = value.split(',')\n",
    "                data[\"Latitude_WGS84\"] = float(latitude)\n",
    "                data[\"Longitude_WGS84\"] = float(longitude)\n",
    "\n",
    "    # Convert dictionary to Pandas Series\n",
    "    return pd.Series(data)\n",
    "\n",
    "\n"
   ]
  },
  {
   "cell_type": "code",
   "execution_count": null,
   "id": "5b1c6071-54e6-4356-b4c8-f59eed684092",
   "metadata": {},
   "outputs": [],
   "source": [
    "# Example location from the table\n",
    "location_example = \"N 190 W 1660 SE 25 S22 E1\"\n",
    "\n",
    "# Parse the location\n",
    "html = parse_location(location_example)\n",
    "\n",
    "# Example usage\n",
    "\n",
    "result_series = extract_coordinates_from_html(html)\n",
    "\n",
    "# Display the result\n",
    "print(result_series)\n",
    "\n",
    "print(f\"UTM NAD83: {utm_nad83}\")\n",
    "print(f\"Latitude and Longitude (WGS84): {latitude_longitude}\")"
   ]
  },
  {
   "cell_type": "code",
   "execution_count": null,
   "id": "7a2395dd-2e37-455b-aaa6-5b9e5e959e2c",
   "metadata": {},
   "outputs": [],
   "source": [
    "serieses = {}\n",
    "\n",
    "for address in df['PLSS'].values:\n",
    "    try:\n",
    "        html = parse_location(location_example)\n",
    "        result_series = extract_coordinates_from_html(html)\n",
    "        result_series['PLSS'] = address\n",
    "        serieses[address] = result_series\n",
    "    except Exception as e:\n",
    "        print(e)\n",
    "        pass\n",
    "    \n",
    "\n",
    "new_coordinates = pd.concat(serieses)"
   ]
  }
 ],
 "metadata": {
  "kernelspec": {
   "display_name": "Python 3 (ipykernel)",
   "language": "python",
   "name": "python3"
  },
  "language_info": {
   "codemirror_mode": {
    "name": "ipython",
    "version": 3
   },
   "file_extension": ".py",
   "mimetype": "text/x-python",
   "name": "python",
   "nbconvert_exporter": "python",
   "pygments_lexer": "ipython3",
   "version": "3.12.6"
  }
 },
 "nbformat": 4,
 "nbformat_minor": 5
}
